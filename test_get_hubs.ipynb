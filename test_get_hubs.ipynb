{
 "cells": [
  {
   "cell_type": "code",
   "execution_count": 3,
   "id": "f6ff0970",
   "metadata": {},
   "outputs": [
    {
     "name": "stdout",
     "output_type": "stream",
     "text": [
      "{'HUB BANKURA': '0207446482675960', 'HUB BISHNUPUR': '0207446482675960', 'HUB PASCHIM BURDWAN': '0207446482675960', 'HUB PURULIA': '0207446482675960', 'HUB CENTRAL POOL': '0207446482675960', 'HUB ONCOLOGY': '0207446482675960', 'HUB STATE TELEMEDICINE CENTER': '0207446482675960', 'HUB UPHC PASCHIM BURDWAN': '0207446482675960', 'HUB PAEDIATRICS': '0207446482675960', 'HUB NEPHROLOGY': '0207446482675960', 'HUB TUBERCULOSIS': '0207446482675960', 'HUB OBSTETRICS': '0207446482675960', 'HUB PSYCHIATRY': '0207446482675960', 'HUB GASTROENTEROLOGY': '0207446482675960'}\n"
     ]
    }
   ],
   "source": [
    "# Create a dictionary of all hub names and their locationUid from the API response\n",
    "import requests\n",
    "import pathlib\n",
    "import json\n",
    "\n",
    "token = pathlib.Path('token').read_text().strip()\n",
    "url = \"https://prod-api01.swasthyaingit.in/prod/configs/api/v1/LocationNetwork/getTeleconsultLocationsByLocId?locationUId=0207446482675960\"\n",
    "headers = {\n",
    "        \"Authorization\": f\"Bearer {token}\",\n",
    "        \"Content-Type\": \"application/json\",\n",
    "        \"Accept\": \"application/json, text/plain, */*\",\n",
    "        \"Origin\": \"https://v2.swasthyaingit.in\",\n",
    "        \"Referer\": \"https://v2.swasthyaingit.in/\",\n",
    "        \"User-Agent\": \"Mozilla/5.0 (Windows NT 10.0; Win64; x64) AppleWebKit/537.36 \"\n",
    "                    \"(KHTML, like Gecko) Chrome/138.0.0.0 Safari/537.36\",\n",
    "        \"sec-fetch-site\": \"same-site\",\n",
    "        \"sec-fetch-mode\": \"cors\",\n",
    "        \"sec-fetch-dest\": \"empty\",\n",
    "        \"sec-ch-ua\": '\"Not)A;Brand\";v=\"8\", \"Chromium\";v=\"138\", \"Google Chrome\";v=\"138\"',\n",
    "        \"sec-ch-ua-platform\": '\"Windows\"',\n",
    "        \"sec-ch-ua-mobile\": \"?0\"\n",
    "}\n",
    "\n",
    "\n",
    "response = requests.get(url, headers=headers, timeout=10)\n",
    "data = response.json()\n",
    "\n",
    "hub_dict = {}\n",
    "for item in data.get('lstModel', []):\n",
    "    name = item.get('Name')\n",
    "    loc_uid = item.get('LocationUid')\n",
    "    if name and loc_uid:\n",
    "        hub_dict[name] = loc_uid\n",
    "\n",
    "print(hub_dict)"
   ]
  },
  {
   "cell_type": "code",
   "execution_count": 4,
   "id": "242fd31a",
   "metadata": {},
   "outputs": [
    {
     "name": "stdout",
     "output_type": "stream",
     "text": [
      "Saved hub_dict.json\n"
     ]
    }
   ],
   "source": [
    "# Save the hub dictionary to a JSON file\n",
    "import json\n",
    "\n",
    "with open('hub_dict.json', 'w', encoding='utf-8') as f:\n",
    "    json.dump(hub_dict, f, ensure_ascii=False, indent=2)\n",
    "\n",
    "print('Saved hub_dict.json')"
   ]
  },
  {
   "cell_type": "code",
   "execution_count": null,
   "id": "3042f6c8",
   "metadata": {},
   "outputs": [],
   "source": [
    "doctor_status_arr = ['', 'Active', '' ,'Busy', 'Idle']"
   ]
  }
 ],
 "metadata": {
  "kernelspec": {
   "display_name": "base",
   "language": "python",
   "name": "python3"
  },
  "language_info": {
   "codemirror_mode": {
    "name": "ipython",
    "version": 3
   },
   "file_extension": ".py",
   "mimetype": "text/x-python",
   "name": "python",
   "nbconvert_exporter": "python",
   "pygments_lexer": "ipython3",
   "version": "3.12.7"
  }
 },
 "nbformat": 4,
 "nbformat_minor": 5
}
